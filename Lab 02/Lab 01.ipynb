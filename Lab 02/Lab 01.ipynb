{
 "cells": [
  {
   "cell_type": "code",
   "execution_count": 1,
   "id": "canadian-format",
   "metadata": {},
   "outputs": [
    {
     "data": {
      "text/plain": [
       "(32561, 15)"
      ]
     },
     "execution_count": 1,
     "metadata": {},
     "output_type": "execute_result"
    }
   ],
   "source": [
    "import pandas\n",
    "\n",
    "tableurl = 'data/adult.data'\n",
    "\n",
    "table = pandas.read_table(tableurl, sep=',', skipinitialspace=True)\n",
    "\n",
    "table.shape"
   ]
  },
  {
   "cell_type": "code",
   "execution_count": 2,
   "id": "exclusive-invalid",
   "metadata": {},
   "outputs": [
    {
     "data": {
      "text/html": [
       "<div>\n",
       "<style scoped>\n",
       "    .dataframe tbody tr th:only-of-type {\n",
       "        vertical-align: middle;\n",
       "    }\n",
       "\n",
       "    .dataframe tbody tr th {\n",
       "        vertical-align: top;\n",
       "    }\n",
       "\n",
       "    .dataframe thead th {\n",
       "        text-align: right;\n",
       "    }\n",
       "</style>\n",
       "<table border=\"1\" class=\"dataframe\">\n",
       "  <thead>\n",
       "    <tr style=\"text-align: right;\">\n",
       "      <th></th>\n",
       "      <th>age</th>\n",
       "      <th>workclass</th>\n",
       "      <th>fnlwgt</th>\n",
       "      <th>education</th>\n",
       "      <th>education-num</th>\n",
       "      <th>marital-status</th>\n",
       "      <th>occupation</th>\n",
       "    </tr>\n",
       "  </thead>\n",
       "  <tbody>\n",
       "    <tr>\n",
       "      <th>0</th>\n",
       "      <td>39</td>\n",
       "      <td>State-gov</td>\n",
       "      <td>77516</td>\n",
       "      <td>Bachelors</td>\n",
       "      <td>13</td>\n",
       "      <td>Never-married</td>\n",
       "      <td>Adm-clerical</td>\n",
       "    </tr>\n",
       "    <tr>\n",
       "      <th>1</th>\n",
       "      <td>50</td>\n",
       "      <td>Self-emp-not-inc</td>\n",
       "      <td>83311</td>\n",
       "      <td>Bachelors</td>\n",
       "      <td>13</td>\n",
       "      <td>Married-civ-spouse</td>\n",
       "      <td>Exec-managerial</td>\n",
       "    </tr>\n",
       "    <tr>\n",
       "      <th>2</th>\n",
       "      <td>38</td>\n",
       "      <td>Private</td>\n",
       "      <td>215646</td>\n",
       "      <td>HS-grad</td>\n",
       "      <td>9</td>\n",
       "      <td>Divorced</td>\n",
       "      <td>Handlers-cleaners</td>\n",
       "    </tr>\n",
       "    <tr>\n",
       "      <th>3</th>\n",
       "      <td>53</td>\n",
       "      <td>Private</td>\n",
       "      <td>234721</td>\n",
       "      <td>11th</td>\n",
       "      <td>7</td>\n",
       "      <td>Married-civ-spouse</td>\n",
       "      <td>Handlers-cleaners</td>\n",
       "    </tr>\n",
       "    <tr>\n",
       "      <th>4</th>\n",
       "      <td>28</td>\n",
       "      <td>Private</td>\n",
       "      <td>338409</td>\n",
       "      <td>Bachelors</td>\n",
       "      <td>13</td>\n",
       "      <td>Married-civ-spouse</td>\n",
       "      <td>Prof-specialty</td>\n",
       "    </tr>\n",
       "  </tbody>\n",
       "</table>\n",
       "</div>"
      ],
      "text/plain": [
       "   age         workclass  fnlwgt  education  education-num  \\\n",
       "0   39         State-gov   77516  Bachelors             13   \n",
       "1   50  Self-emp-not-inc   83311  Bachelors             13   \n",
       "2   38           Private  215646    HS-grad              9   \n",
       "3   53           Private  234721       11th              7   \n",
       "4   28           Private  338409  Bachelors             13   \n",
       "\n",
       "       marital-status         occupation  \n",
       "0       Never-married       Adm-clerical  \n",
       "1  Married-civ-spouse    Exec-managerial  \n",
       "2            Divorced  Handlers-cleaners  \n",
       "3  Married-civ-spouse  Handlers-cleaners  \n",
       "4  Married-civ-spouse     Prof-specialty  "
      ]
     },
     "execution_count": 2,
     "metadata": {},
     "output_type": "execute_result"
    }
   ],
   "source": [
    "table.iloc[:5, :7]"
   ]
  },
  {
   "cell_type": "code",
   "execution_count": 3,
   "id": "applicable-southeast",
   "metadata": {},
   "outputs": [
    {
     "data": {
      "text/html": [
       "<div>\n",
       "<style scoped>\n",
       "    .dataframe tbody tr th:only-of-type {\n",
       "        vertical-align: middle;\n",
       "    }\n",
       "\n",
       "    .dataframe tbody tr th {\n",
       "        vertical-align: top;\n",
       "    }\n",
       "\n",
       "    .dataframe thead th {\n",
       "        text-align: right;\n",
       "    }\n",
       "</style>\n",
       "<table border=\"1\" class=\"dataframe\">\n",
       "  <thead>\n",
       "    <tr style=\"text-align: right;\">\n",
       "      <th></th>\n",
       "      <th>relationship</th>\n",
       "      <th>race</th>\n",
       "      <th>sex</th>\n",
       "      <th>capital-gain</th>\n",
       "      <th>capital-loss</th>\n",
       "      <th>hours-per-week</th>\n",
       "      <th>native-country</th>\n",
       "      <th>label</th>\n",
       "    </tr>\n",
       "  </thead>\n",
       "  <tbody>\n",
       "    <tr>\n",
       "      <th>0</th>\n",
       "      <td>Not-in-family</td>\n",
       "      <td>White</td>\n",
       "      <td>Male</td>\n",
       "      <td>2174</td>\n",
       "      <td>0</td>\n",
       "      <td>40</td>\n",
       "      <td>United-States</td>\n",
       "      <td>&lt;=50K</td>\n",
       "    </tr>\n",
       "    <tr>\n",
       "      <th>1</th>\n",
       "      <td>Husband</td>\n",
       "      <td>White</td>\n",
       "      <td>Male</td>\n",
       "      <td>0</td>\n",
       "      <td>0</td>\n",
       "      <td>13</td>\n",
       "      <td>United-States</td>\n",
       "      <td>&lt;=50K</td>\n",
       "    </tr>\n",
       "    <tr>\n",
       "      <th>2</th>\n",
       "      <td>Not-in-family</td>\n",
       "      <td>White</td>\n",
       "      <td>Male</td>\n",
       "      <td>0</td>\n",
       "      <td>0</td>\n",
       "      <td>40</td>\n",
       "      <td>United-States</td>\n",
       "      <td>&lt;=50K</td>\n",
       "    </tr>\n",
       "    <tr>\n",
       "      <th>3</th>\n",
       "      <td>Husband</td>\n",
       "      <td>Black</td>\n",
       "      <td>Male</td>\n",
       "      <td>0</td>\n",
       "      <td>0</td>\n",
       "      <td>40</td>\n",
       "      <td>United-States</td>\n",
       "      <td>&lt;=50K</td>\n",
       "    </tr>\n",
       "    <tr>\n",
       "      <th>4</th>\n",
       "      <td>Wife</td>\n",
       "      <td>Black</td>\n",
       "      <td>Female</td>\n",
       "      <td>0</td>\n",
       "      <td>0</td>\n",
       "      <td>40</td>\n",
       "      <td>Cuba</td>\n",
       "      <td>&lt;=50K</td>\n",
       "    </tr>\n",
       "  </tbody>\n",
       "</table>\n",
       "</div>"
      ],
      "text/plain": [
       "    relationship   race     sex  capital-gain  capital-loss  hours-per-week  \\\n",
       "0  Not-in-family  White    Male          2174             0              40   \n",
       "1        Husband  White    Male             0             0              13   \n",
       "2  Not-in-family  White    Male             0             0              40   \n",
       "3        Husband  Black    Male             0             0              40   \n",
       "4           Wife  Black  Female             0             0              40   \n",
       "\n",
       "  native-country  label  \n",
       "0  United-States  <=50K  \n",
       "1  United-States  <=50K  \n",
       "2  United-States  <=50K  \n",
       "3  United-States  <=50K  \n",
       "4           Cuba  <=50K  "
      ]
     },
     "execution_count": 3,
     "metadata": {},
     "output_type": "execute_result"
    }
   ],
   "source": [
    "table.iloc[:5, 7:]"
   ]
  },
  {
   "cell_type": "code",
   "execution_count": 4,
   "id": "adopted-stereo",
   "metadata": {},
   "outputs": [
    {
     "data": {
      "text/plain": [
       "0"
      ]
     },
     "execution_count": 4,
     "metadata": {},
     "output_type": "execute_result"
    }
   ],
   "source": [
    "null = table.isnull().sum()\n",
    "\n",
    "null.sum()"
   ]
  },
  {
   "cell_type": "code",
   "execution_count": 5,
   "id": "amber-integer",
   "metadata": {},
   "outputs": [],
   "source": [
    "from sklearn.model_selection import train_test_split\n",
    "\n",
    "test_size = 0.2\n",
    "\n",
    "train, test = train_test_split(table, test_size=test_size, shuffle=False)"
   ]
  },
  {
   "cell_type": "code",
   "execution_count": 6,
   "id": "political-rendering",
   "metadata": {},
   "outputs": [
    {
     "data": {
      "text/plain": [
       "0"
      ]
     },
     "execution_count": 6,
     "metadata": {},
     "output_type": "execute_result"
    }
   ],
   "source": [
    "train.isnull().sum().sum()"
   ]
  },
  {
   "cell_type": "code",
   "execution_count": 7,
   "id": "living-alloy",
   "metadata": {},
   "outputs": [
    {
     "data": {
      "text/plain": [
       "0"
      ]
     },
     "execution_count": 7,
     "metadata": {},
     "output_type": "execute_result"
    }
   ],
   "source": [
    "test.isnull().sum().sum()"
   ]
  },
  {
   "cell_type": "markdown",
   "id": "indirect-album",
   "metadata": {},
   "source": [
    "`26048 & 6513`"
   ]
  },
  {
   "cell_type": "markdown",
   "id": "cordless-malta",
   "metadata": {},
   "source": [
    "#### `Train & Test`"
   ]
  },
  {
   "cell_type": "code",
   "execution_count": 8,
   "id": "owned-thinking",
   "metadata": {},
   "outputs": [],
   "source": [
    "from tensorflow_data_validation import generate_statistics_from_dataframe\n",
    "\n",
    "from tensorflow_data_validation import visualize_statistics\n",
    "\n",
    "from tensorflow_data_validation import infer_schema, validate_statistics\n",
    "\n",
    "trainStats = generate_statistics_from_dataframe(train)\n",
    "\n",
    "visualize_statistics(trainStats)"
   ]
  },
  {
   "cell_type": "code",
   "execution_count": 9,
   "id": "recognized-provider",
   "metadata": {},
   "outputs": [],
   "source": [
    "testStats = generate_statistics_from_dataframe(test)\n",
    "\n",
    "visualize_statistics(testStats)"
   ]
  },
  {
   "cell_type": "code",
   "execution_count": 10,
   "id": "deadly-premiere",
   "metadata": {},
   "outputs": [],
   "source": [
    "statlist = {}\n",
    "\n",
    "statlist['lhs_statistics'] = trainStats; statlist['lhs_name'] = 'Train'\n",
    "\n",
    "statlist['rhs_statistics'] = testStats; statlist['rhs_name'] = 'Test'\n",
    "\n",
    "visualize_statistics(**statlist)"
   ]
  },
  {
   "cell_type": "code",
   "execution_count": 11,
   "id": "sophisticated-machine",
   "metadata": {},
   "outputs": [],
   "source": [
    "from tensorflow_data_validation import display_schema\n",
    "\n",
    "schemas = infer_schema(statistics=trainStats)\n",
    "\n",
    "display_schema(schemas)"
   ]
  },
  {
   "cell_type": "code",
   "execution_count": 12,
   "id": "measured-programmer",
   "metadata": {},
   "outputs": [
    {
     "data": {
      "text/plain": [
       "0"
      ]
     },
     "execution_count": 12,
     "metadata": {},
     "output_type": "execute_result"
    }
   ],
   "source": [
    "anomalies = validate_statistics(testStats, schemas)\n",
    "\n",
    "TotalAnomalies = len(anomalies.anomaly_info.items())\n",
    "\n",
    "TotalAnomalies"
   ]
  },
  {
   "cell_type": "markdown",
   "id": "logical-matthew",
   "metadata": {},
   "source": [
    "#### `Train & Other Test`"
   ]
  },
  {
   "cell_type": "code",
   "execution_count": 13,
   "id": "visible-coach",
   "metadata": {},
   "outputs": [],
   "source": [
    "from util import add_extra_rows\n",
    "\n",
    "sample = add_extra_rows(test)\n",
    "\n",
    "assert sample.shape[0] == test.shape[0] + 4, 'Fail !'"
   ]
  },
  {
   "cell_type": "code",
   "execution_count": 14,
   "id": "sublime-geology",
   "metadata": {},
   "outputs": [
    {
     "data": {
      "text/plain": [
       "1"
      ]
     },
     "execution_count": 14,
     "metadata": {},
     "output_type": "execute_result"
    }
   ],
   "source": [
    "sample.isnull().sum().sum()"
   ]
  },
  {
   "cell_type": "code",
   "execution_count": 15,
   "id": "derived-proposition",
   "metadata": {},
   "outputs": [],
   "source": [
    "evalStats = generate_statistics_from_dataframe(sample)\n",
    "\n",
    "statlist['rhs_statistics'] = evalStats; statlist['rhs_name'] = 'Sample'\n",
    "\n",
    "visualize_statistics(**statlist)"
   ]
  },
  {
   "cell_type": "code",
   "execution_count": 16,
   "id": "brief-panel",
   "metadata": {},
   "outputs": [
    {
     "data": {
      "text/plain": [
       "6514"
      ]
     },
     "execution_count": 16,
     "metadata": {},
     "output_type": "execute_result"
    }
   ],
   "source": [
    "sample = sample[(sample['age'] > 16) & (sample['age'] < 91)]\n",
    "\n",
    "sample = sample.dropna()\n",
    "\n",
    "sample.shape[0]"
   ]
  },
  {
   "cell_type": "code",
   "execution_count": 17,
   "id": "emotional-instruction",
   "metadata": {},
   "outputs": [],
   "source": [
    "evalStats = generate_statistics_from_dataframe(sample)\n",
    "\n",
    "statlist['rhs_statistics'] = evalStats; statlist['rhs_name'] = 'Sample'\n",
    "\n",
    "visualize_statistics(**statlist)"
   ]
  },
  {
   "cell_type": "code",
   "execution_count": 18,
   "id": "innovative-gossip",
   "metadata": {},
   "outputs": [
    {
     "data": {
      "text/plain": [
       "3"
      ]
     },
     "execution_count": 18,
     "metadata": {},
     "output_type": "execute_result"
    }
   ],
   "source": [
    "anomalies = validate_statistics(evalStats, schemas)\n",
    "\n",
    "TotalAnomalies = len(anomalies.anomaly_info.items())\n",
    "\n",
    "TotalAnomalies"
   ]
  },
  {
   "cell_type": "code",
   "execution_count": 19,
   "id": "raised-museum",
   "metadata": {
    "scrolled": true
   },
   "outputs": [],
   "source": [
    "from tensorflow_data_validation import display_anomalies\n",
    "\n",
    "display_anomalies(anomalies)"
   ]
  },
  {
   "cell_type": "code",
   "execution_count": 20,
   "id": "aggressive-smell",
   "metadata": {},
   "outputs": [],
   "source": [
    "from tensorflow_data_validation import get_domain\n",
    "\n",
    "race_column = get_domain(schemas, 'race')\n",
    "\n",
    "assert 'Asian' not in race_column.value, 'Fail !'"
   ]
  },
  {
   "cell_type": "code",
   "execution_count": 21,
   "id": "saving-opposition",
   "metadata": {},
   "outputs": [],
   "source": [
    "occ_column = get_domain(schemas, 'occupation')\n",
    "\n",
    "assert 'Gamer' not in occ_column.value, 'Fail !'"
   ]
  },
  {
   "cell_type": "code",
   "execution_count": 22,
   "id": "existing-correction",
   "metadata": {},
   "outputs": [],
   "source": [
    "countries_column = get_domain(schemas, 'native-country')\n",
    "\n",
    "assert 'Mongolia' not in countries_column.value, 'Fail !'"
   ]
  },
  {
   "cell_type": "markdown",
   "id": "capital-breakdown",
   "metadata": {},
   "source": [
    "#### `Finish Anomalies`"
   ]
  },
  {
   "cell_type": "code",
   "execution_count": 23,
   "id": "detailed-product",
   "metadata": {},
   "outputs": [
    {
     "data": {
      "text/plain": [
       "tensorflow_metadata.proto.v0.schema_pb2.DistributionConstraints"
      ]
     },
     "execution_count": 23,
     "metadata": {},
     "output_type": "execute_result"
    }
   ],
   "source": [
    "from tensorflow_data_validation import get_feature\n",
    "\n",
    "occ_col_feature = get_feature(schemas, 'occupation')\n",
    "\n",
    "type(occ_col_feature.distribution_constraints)"
   ]
  },
  {
   "cell_type": "code",
   "execution_count": 24,
   "id": "banner-guatemala",
   "metadata": {},
   "outputs": [
    {
     "data": {
      "text/plain": [
       "1.0"
      ]
     },
     "execution_count": 24,
     "metadata": {},
     "output_type": "execute_result"
    }
   ],
   "source": [
    "occ_col_feature.distribution_constraints.min_domain_mass"
   ]
  },
  {
   "cell_type": "code",
   "execution_count": 25,
   "id": "consistent-continuity",
   "metadata": {},
   "outputs": [
    {
     "data": {
      "text/plain": [
       "0.9"
      ]
     },
     "execution_count": 25,
     "metadata": {},
     "output_type": "execute_result"
    }
   ],
   "source": [
    "occ_col_feature.distribution_constraints.min_domain_mass = 0.9\n",
    "\n",
    "occ_col_feature.distribution_constraints.min_domain_mass"
   ]
  },
  {
   "cell_type": "code",
   "execution_count": 26,
   "id": "armed-pharmacology",
   "metadata": {},
   "outputs": [
    {
     "data": {
      "text/plain": [
       "1.0"
      ]
     },
     "execution_count": 26,
     "metadata": {},
     "output_type": "execute_result"
    }
   ],
   "source": [
    "countries_col_feat = get_feature(schemas, 'native-country')\n",
    "\n",
    "countries_col_feat.distribution_constraints.min_domain_mass"
   ]
  },
  {
   "cell_type": "code",
   "execution_count": 27,
   "id": "instrumental-robin",
   "metadata": {},
   "outputs": [
    {
     "data": {
      "text/plain": [
       "0.9"
      ]
     },
     "execution_count": 27,
     "metadata": {},
     "output_type": "execute_result"
    }
   ],
   "source": [
    "countries_col_feat.distribution_constraints.min_domain_mass = 0.9\n",
    "\n",
    "countries_col_feat.distribution_constraints.min_domain_mass"
   ]
  },
  {
   "cell_type": "code",
   "execution_count": 28,
   "id": "monetary-story",
   "metadata": {},
   "outputs": [
    {
     "data": {
      "text/plain": [
       "1"
      ]
     },
     "execution_count": 28,
     "metadata": {},
     "output_type": "execute_result"
    }
   ],
   "source": [
    "anomalies = validate_statistics(evalStats, schemas)\n",
    "\n",
    "TotalAnomalies = len(anomalies.anomaly_info.items())\n",
    "\n",
    "TotalAnomalies"
   ]
  },
  {
   "cell_type": "code",
   "execution_count": 29,
   "id": "resident-mirror",
   "metadata": {},
   "outputs": [],
   "source": [
    "race_column.value.append('Asian')\n",
    "\n",
    "assert 'Asian' in race_column.value, 'Fail !'"
   ]
  },
  {
   "cell_type": "code",
   "execution_count": 30,
   "id": "competent-harvest",
   "metadata": {},
   "outputs": [
    {
     "data": {
      "text/plain": [
       "0"
      ]
     },
     "execution_count": 30,
     "metadata": {},
     "output_type": "execute_result"
    }
   ],
   "source": [
    "anomalies = validate_statistics(evalStats, schemas)\n",
    "\n",
    "TotalAnomalies = len(anomalies.anomaly_info.items())\n",
    "\n",
    "TotalAnomalies"
   ]
  },
  {
   "cell_type": "code",
   "execution_count": 31,
   "id": "medical-vienna",
   "metadata": {},
   "outputs": [],
   "source": [
    "from tensorflow_metadata.proto.v0 import schema_pb2\n",
    "\n",
    "from tensorflow_data_validation import set_domain\n",
    "\n",
    "limit = schema_pb2.IntDomain(name='age', min=17, max=90)\n",
    "\n",
    "set_domain(schemas, 'age', limit)\n",
    "\n",
    "display_schema(schemas)"
   ]
  },
  {
   "cell_type": "code",
   "execution_count": 32,
   "id": "secondary-survival",
   "metadata": {},
   "outputs": [],
   "source": [
    "from tensorflow_data_validation.utils import slicing_util\n",
    "\n",
    "sex_slicer = slicing_util.get_feature_value_slicer(features={'sex': None})"
   ]
  },
  {
   "cell_type": "markdown",
   "id": "short-landscape",
   "metadata": {},
   "source": [
    "#### `Male & Female`"
   ]
  },
  {
   "cell_type": "code",
   "execution_count": 33,
   "id": "chemical-hello",
   "metadata": {},
   "outputs": [],
   "source": [
    "from tensorflow_data_validation import StatsOptions\n",
    "\n",
    "slice_options = StatsOptions(schema=schemas, slice_functions=[sex_slicer], infer_type_from_schema=True)"
   ]
  },
  {
   "cell_type": "code",
   "execution_count": 34,
   "id": "extraordinary-resort",
   "metadata": {},
   "outputs": [],
   "source": [
    "train.to_csv('slice_train_sample.csv')"
   ]
  },
  {
   "cell_type": "code",
   "execution_count": null,
   "id": "intended-twist",
   "metadata": {
    "scrolled": true
   },
   "outputs": [],
   "source": [
    "from tensorflow_data_validation import generate_statistics_from_csv\n",
    "\n",
    "url = 'slice_train_sample.csv'\n",
    "\n",
    "train_slice_stats = generate_statistics_from_csv(url, stats_options=slice_options)"
   ]
  },
  {
   "cell_type": "code",
   "execution_count": 36,
   "id": "changed-period",
   "metadata": {},
   "outputs": [
    {
     "data": {
      "text/plain": [
       "['All Examples', 'sex_Male', 'sex_Female']"
      ]
     },
     "execution_count": 36,
     "metadata": {},
     "output_type": "execute_result"
    }
   ],
   "source": [
    "[sliced.name for sliced in train_slice_stats.datasets]"
   ]
  },
  {
   "cell_type": "code",
   "execution_count": 37,
   "id": "earlier-scroll",
   "metadata": {},
   "outputs": [
    {
     "data": {
      "text/plain": [
       "'sex_Male'"
      ]
     },
     "execution_count": 37,
     "metadata": {},
     "output_type": "execute_result"
    }
   ],
   "source": [
    "from tensorflow_metadata.proto.v0.statistics_pb2 import DatasetFeatureStatisticsList\n",
    "\n",
    "male_stats_list = DatasetFeatureStatisticsList()\n",
    "\n",
    "male_stats_list.datasets.extend([train_slice_stats.datasets[1]])\n",
    "\n",
    "male_stats_name = train_slice_stats.datasets[1].name\n",
    "\n",
    "male_stats_name"
   ]
  },
  {
   "cell_type": "code",
   "execution_count": 38,
   "id": "modified-munich",
   "metadata": {},
   "outputs": [
    {
     "data": {
      "text/plain": [
       "'sex_Female'"
      ]
     },
     "execution_count": 38,
     "metadata": {},
     "output_type": "execute_result"
    }
   ],
   "source": [
    "female_stats_list = DatasetFeatureStatisticsList()\n",
    "\n",
    "female_stats_list.datasets.extend([train_slice_stats.datasets[2]])\n",
    "\n",
    "female_stats_name = train_slice_stats.datasets[2].name\n",
    "\n",
    "female_stats_name"
   ]
  },
  {
   "cell_type": "code",
   "execution_count": 39,
   "id": "atomic-mentor",
   "metadata": {},
   "outputs": [],
   "source": [
    "statlist = {}\n",
    "\n",
    "statlist['lhs_statistics'] = male_stats_list; statlist['lhs_name'] = male_stats_name\n",
    "\n",
    "statlist['rhs_statistics'] = female_stats_list; statlist['rhs_name'] = female_stats_name\n",
    "\n",
    "visualize_statistics(**statlist)"
   ]
  }
 ],
 "metadata": {
  "kernelspec": {
   "display_name": "Python 3",
   "language": "python",
   "name": "python3"
  },
  "language_info": {
   "codemirror_mode": {
    "name": "ipython",
    "version": 3
   },
   "file_extension": ".py",
   "mimetype": "text/x-python",
   "name": "python",
   "nbconvert_exporter": "python",
   "pygments_lexer": "ipython3",
   "version": "3.8.8"
  }
 },
 "nbformat": 4,
 "nbformat_minor": 5
}
