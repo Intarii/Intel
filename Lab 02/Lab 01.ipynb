{
  "cells": [
    {
      "cell_type": "code",
      "execution_count": null,
      "id": "canadian-format",
      "metadata": {
        "id": "canadian-format",
        "outputId": "98947010-353e-4827-baa9-cd33ba6a6a68"
      },
      "outputs": [
        {
          "data": {
            "text/plain": [
              "(32561, 15)"
            ]
          },
          "execution_count": 1,
          "metadata": {},
          "output_type": "execute_result"
        }
      ],
      "source": [
        "import pandas\n",
        "\n",
        "tableurl = 'data/adult.data'\n",
        "\n",
        "table = pandas.read_table(tableurl, sep=',', skipinitialspace=True)\n",
        "\n",
        "table.shape"
      ]
    },
    {
      "cell_type": "code",
      "execution_count": null,
      "id": "exclusive-invalid",
      "metadata": {
        "id": "exclusive-invalid",
        "outputId": "3dc816fd-e89f-4c75-97e7-a9c3b22601f7"
      },
      "outputs": [
        {
          "data": {
            "text/html": [
              "<div>\n",
              "<style scoped>\n",
              "    .dataframe tbody tr th:only-of-type {\n",
              "        vertical-align: middle;\n",
              "    }\n",
              "\n",
              "    .dataframe tbody tr th {\n",
              "        vertical-align: top;\n",
              "    }\n",
              "\n",
              "    .dataframe thead th {\n",
              "        text-align: right;\n",
              "    }\n",
              "</style>\n",
              "<table border=\"1\" class=\"dataframe\">\n",
              "  <thead>\n",
              "    <tr style=\"text-align: right;\">\n",
              "      <th></th>\n",
              "      <th>age</th>\n",
              "      <th>workclass</th>\n",
              "      <th>fnlwgt</th>\n",
              "      <th>education</th>\n",
              "      <th>education-num</th>\n",
              "      <th>marital-status</th>\n",
              "      <th>occupation</th>\n",
              "    </tr>\n",
              "  </thead>\n",
              "  <tbody>\n",
              "    <tr>\n",
              "      <th>0</th>\n",
              "      <td>39</td>\n",
              "      <td>State-gov</td>\n",
              "      <td>77516</td>\n",
              "      <td>Bachelors</td>\n",
              "      <td>13</td>\n",
              "      <td>Never-married</td>\n",
              "      <td>Adm-clerical</td>\n",
              "    </tr>\n",
              "    <tr>\n",
              "      <th>1</th>\n",
              "      <td>50</td>\n",
              "      <td>Self-emp-not-inc</td>\n",
              "      <td>83311</td>\n",
              "      <td>Bachelors</td>\n",
              "      <td>13</td>\n",
              "      <td>Married-civ-spouse</td>\n",
              "      <td>Exec-managerial</td>\n",
              "    </tr>\n",
              "    <tr>\n",
              "      <th>2</th>\n",
              "      <td>38</td>\n",
              "      <td>Private</td>\n",
              "      <td>215646</td>\n",
              "      <td>HS-grad</td>\n",
              "      <td>9</td>\n",
              "      <td>Divorced</td>\n",
              "      <td>Handlers-cleaners</td>\n",
              "    </tr>\n",
              "    <tr>\n",
              "      <th>3</th>\n",
              "      <td>53</td>\n",
              "      <td>Private</td>\n",
              "      <td>234721</td>\n",
              "      <td>11th</td>\n",
              "      <td>7</td>\n",
              "      <td>Married-civ-spouse</td>\n",
              "      <td>Handlers-cleaners</td>\n",
              "    </tr>\n",
              "    <tr>\n",
              "      <th>4</th>\n",
              "      <td>28</td>\n",
              "      <td>Private</td>\n",
              "      <td>338409</td>\n",
              "      <td>Bachelors</td>\n",
              "      <td>13</td>\n",
              "      <td>Married-civ-spouse</td>\n",
              "      <td>Prof-specialty</td>\n",
              "    </tr>\n",
              "  </tbody>\n",
              "</table>\n",
              "</div>"
            ],
            "text/plain": [
              "   age         workclass  fnlwgt  education  education-num  \\\n",
              "0   39         State-gov   77516  Bachelors             13   \n",
              "1   50  Self-emp-not-inc   83311  Bachelors             13   \n",
              "2   38           Private  215646    HS-grad              9   \n",
              "3   53           Private  234721       11th              7   \n",
              "4   28           Private  338409  Bachelors             13   \n",
              "\n",
              "       marital-status         occupation  \n",
              "0       Never-married       Adm-clerical  \n",
              "1  Married-civ-spouse    Exec-managerial  \n",
              "2            Divorced  Handlers-cleaners  \n",
              "3  Married-civ-spouse  Handlers-cleaners  \n",
              "4  Married-civ-spouse     Prof-specialty  "
            ]
          },
          "execution_count": 2,
          "metadata": {},
          "output_type": "execute_result"
        }
      ],
      "source": [
        "table.iloc[:5, :7]"
      ]
    },
    {
      "cell_type": "code",
      "execution_count": null,
      "id": "applicable-southeast",
      "metadata": {
        "id": "applicable-southeast",
        "outputId": "38036b3d-9e1f-436e-b7bd-495f06500dc8"
      },
      "outputs": [
        {
          "data": {
            "text/html": [
              "<div>\n",
              "<style scoped>\n",
              "    .dataframe tbody tr th:only-of-type {\n",
              "        vertical-align: middle;\n",
              "    }\n",
              "\n",
              "    .dataframe tbody tr th {\n",
              "        vertical-align: top;\n",
              "    }\n",
              "\n",
              "    .dataframe thead th {\n",
              "        text-align: right;\n",
              "    }\n",
              "</style>\n",
              "<table border=\"1\" class=\"dataframe\">\n",
              "  <thead>\n",
              "    <tr style=\"text-align: right;\">\n",
              "      <th></th>\n",
              "      <th>relationship</th>\n",
              "      <th>race</th>\n",
              "      <th>sex</th>\n",
              "      <th>capital-gain</th>\n",
              "      <th>capital-loss</th>\n",
              "      <th>hours-per-week</th>\n",
              "      <th>native-country</th>\n",
              "      <th>label</th>\n",
              "    </tr>\n",
              "  </thead>\n",
              "  <tbody>\n",
              "    <tr>\n",
              "      <th>0</th>\n",
              "      <td>Not-in-family</td>\n",
              "      <td>White</td>\n",
              "      <td>Male</td>\n",
              "      <td>2174</td>\n",
              "      <td>0</td>\n",
              "      <td>40</td>\n",
              "      <td>United-States</td>\n",
              "      <td>&lt;=50K</td>\n",
              "    </tr>\n",
              "    <tr>\n",
              "      <th>1</th>\n",
              "      <td>Husband</td>\n",
              "      <td>White</td>\n",
              "      <td>Male</td>\n",
              "      <td>0</td>\n",
              "      <td>0</td>\n",
              "      <td>13</td>\n",
              "      <td>United-States</td>\n",
              "      <td>&lt;=50K</td>\n",
              "    </tr>\n",
              "    <tr>\n",
              "      <th>2</th>\n",
              "      <td>Not-in-family</td>\n",
              "      <td>White</td>\n",
              "      <td>Male</td>\n",
              "      <td>0</td>\n",
              "      <td>0</td>\n",
              "      <td>40</td>\n",
              "      <td>United-States</td>\n",
              "      <td>&lt;=50K</td>\n",
              "    </tr>\n",
              "    <tr>\n",
              "      <th>3</th>\n",
              "      <td>Husband</td>\n",
              "      <td>Black</td>\n",
              "      <td>Male</td>\n",
              "      <td>0</td>\n",
              "      <td>0</td>\n",
              "      <td>40</td>\n",
              "      <td>United-States</td>\n",
              "      <td>&lt;=50K</td>\n",
              "    </tr>\n",
              "    <tr>\n",
              "      <th>4</th>\n",
              "      <td>Wife</td>\n",
              "      <td>Black</td>\n",
              "      <td>Female</td>\n",
              "      <td>0</td>\n",
              "      <td>0</td>\n",
              "      <td>40</td>\n",
              "      <td>Cuba</td>\n",
              "      <td>&lt;=50K</td>\n",
              "    </tr>\n",
              "  </tbody>\n",
              "</table>\n",
              "</div>"
            ],
            "text/plain": [
              "    relationship   race     sex  capital-gain  capital-loss  hours-per-week  \\\n",
              "0  Not-in-family  White    Male          2174             0              40   \n",
              "1        Husband  White    Male             0             0              13   \n",
              "2  Not-in-family  White    Male             0             0              40   \n",
              "3        Husband  Black    Male             0             0              40   \n",
              "4           Wife  Black  Female             0             0              40   \n",
              "\n",
              "  native-country  label  \n",
              "0  United-States  <=50K  \n",
              "1  United-States  <=50K  \n",
              "2  United-States  <=50K  \n",
              "3  United-States  <=50K  \n",
              "4           Cuba  <=50K  "
            ]
          },
          "execution_count": 3,
          "metadata": {},
          "output_type": "execute_result"
        }
      ],
      "source": [
        "table.iloc[:5, 7:]"
      ]
    },
    {
      "cell_type": "code",
      "execution_count": null,
      "id": "adopted-stereo",
      "metadata": {
        "id": "adopted-stereo",
        "outputId": "fa45128b-b130-4980-c690-6b11214fe219"
      },
      "outputs": [
        {
          "data": {
            "text/plain": [
              "0"
            ]
          },
          "execution_count": 4,
          "metadata": {},
          "output_type": "execute_result"
        }
      ],
      "source": [
        "null = table.isnull().sum()\n",
        "\n",
        "null.sum()"
      ]
    },
    {
      "cell_type": "code",
      "execution_count": null,
      "id": "amber-integer",
      "metadata": {
        "id": "amber-integer"
      },
      "outputs": [],
      "source": [
        "from sklearn.model_selection import train_test_split\n",
        "\n",
        "test_size = 0.2\n",
        "\n",
        "train, test = train_test_split(table, test_size=test_size, shuffle=False)"
      ]
    },
    {
      "cell_type": "code",
      "execution_count": null,
      "id": "political-rendering",
      "metadata": {
        "id": "political-rendering",
        "outputId": "c890e066-67b7-4c69-c5f1-354079fae2be"
      },
      "outputs": [
        {
          "data": {
            "text/plain": [
              "0"
            ]
          },
          "execution_count": 6,
          "metadata": {},
          "output_type": "execute_result"
        }
      ],
      "source": [
        "train.isnull().sum().sum()"
      ]
    },
    {
      "cell_type": "code",
      "execution_count": null,
      "id": "living-alloy",
      "metadata": {
        "id": "living-alloy",
        "outputId": "e24d01bf-002d-4f4c-fd80-619a77b8a490"
      },
      "outputs": [
        {
          "data": {
            "text/plain": [
              "0"
            ]
          },
          "execution_count": 7,
          "metadata": {},
          "output_type": "execute_result"
        }
      ],
      "source": [
        "test.isnull().sum().sum()"
      ]
    },
    {
      "cell_type": "code",
      "execution_count": null,
      "id": "dedicated-guest",
      "metadata": {
        "id": "dedicated-guest",
        "outputId": "9c119276-fba1-47a3-df2f-95ef4c104cf2"
      },
      "outputs": [
        {
          "data": {
            "text/plain": [
              "26048"
            ]
          },
          "execution_count": 8,
          "metadata": {},
          "output_type": "execute_result"
        }
      ],
      "source": [
        "total_train = train.shape[0]\n",
        "\n",
        "total_train"
      ]
    },
    {
      "cell_type": "code",
      "execution_count": null,
      "id": "republican-offense",
      "metadata": {
        "id": "republican-offense",
        "outputId": "f89e673e-2380-468a-cb03-e81ff651181e"
      },
      "outputs": [
        {
          "data": {
            "text/plain": [
              "6513"
            ]
          },
          "execution_count": 9,
          "metadata": {},
          "output_type": "execute_result"
        }
      ],
      "source": [
        "total_test = test.shape[0]\n",
        "\n",
        "total_test"
      ]
    },
    {
      "cell_type": "code",
      "execution_count": null,
      "id": "owned-thinking",
      "metadata": {
        "id": "owned-thinking"
      },
      "outputs": [],
      "source": [
        "from tensorflow_data_validation import generate_statistics_from_dataframe\n",
        "\n",
        "from tensorflow_data_validation import visualize_statistics\n",
        "\n",
        "from tensorflow_data_validation import infer_schema, validate_statistics\n",
        "\n",
        "trainStats = generate_statistics_from_dataframe(train)\n",
        "\n",
        "visualize_statistics(trainStats)"
      ]
    },
    {
      "cell_type": "code",
      "execution_count": null,
      "id": "recognized-provider",
      "metadata": {
        "id": "recognized-provider"
      },
      "outputs": [],
      "source": [
        "testStats = generate_statistics_from_dataframe(test)\n",
        "\n",
        "visualize_statistics(testStats)"
      ]
    },
    {
      "cell_type": "code",
      "execution_count": null,
      "id": "deadly-premiere",
      "metadata": {
        "id": "deadly-premiere"
      },
      "outputs": [],
      "source": [
        "statlist = {}\n",
        "\n",
        "statlist['lhs_statistics'] = trainStats; statlist['lhs_name'] = 'Train'\n",
        "\n",
        "statlist['rhs_statistics'] = testStats; statlist['rhs_name'] = 'Test'\n",
        "\n",
        "visualize_statistics(**statlist)"
      ]
    },
    {
      "cell_type": "code",
      "execution_count": null,
      "id": "sophisticated-machine",
      "metadata": {
        "id": "sophisticated-machine"
      },
      "outputs": [],
      "source": [
        "from tensorflow_data_validation import display_schema\n",
        "\n",
        "schemas = infer_schema(statistics=trainStats)\n",
        "\n",
        "display_schema(schemas)"
      ]
    },
    {
      "cell_type": "code",
      "execution_count": null,
      "id": "measured-programmer",
      "metadata": {
        "id": "measured-programmer",
        "outputId": "6c322452-a2c0-4b0b-9528-6a6522bf57c5"
      },
      "outputs": [
        {
          "data": {
            "text/plain": [
              "0"
            ]
          },
          "execution_count": 14,
          "metadata": {},
          "output_type": "execute_result"
        }
      ],
      "source": [
        "anomalies = validate_statistics(testStats, schemas)\n",
        "\n",
        "TotalAnomalies = len(anomalies.anomaly_info.items())\n",
        "\n",
        "TotalAnomalies"
      ]
    },
    {
      "cell_type": "markdown",
      "id": "logical-matthew",
      "metadata": {
        "id": "logical-matthew"
      },
      "source": [
        "#### `Train & Other Test`"
      ]
    },
    {
      "cell_type": "code",
      "execution_count": null,
      "id": "visible-coach",
      "metadata": {
        "id": "visible-coach"
      },
      "outputs": [],
      "source": [
        "from util import add_extra_rows\n",
        "\n",
        "sample = add_extra_rows(test)\n",
        "\n",
        "assert sample.shape[0] == test.shape[0] + 4, 'Fail !'"
      ]
    },
    {
      "cell_type": "code",
      "execution_count": null,
      "id": "sublime-geology",
      "metadata": {
        "id": "sublime-geology",
        "outputId": "53ed432c-0db6-4906-f09a-0a8ec44dcc79"
      },
      "outputs": [
        {
          "data": {
            "text/plain": [
              "1"
            ]
          },
          "execution_count": 16,
          "metadata": {},
          "output_type": "execute_result"
        }
      ],
      "source": [
        "sample.isnull().sum().sum()"
      ]
    },
    {
      "cell_type": "code",
      "execution_count": null,
      "id": "derived-proposition",
      "metadata": {
        "id": "derived-proposition"
      },
      "outputs": [],
      "source": [
        "evalStats = generate_statistics_from_dataframe(sample)\n",
        "\n",
        "statlist['rhs_statistics'] = evalStats; statlist['rhs_name'] = 'Sample'\n",
        "\n",
        "visualize_statistics(**statlist)"
      ]
    },
    {
      "cell_type": "code",
      "execution_count": null,
      "id": "brief-panel",
      "metadata": {
        "id": "brief-panel",
        "outputId": "5eadd01a-221a-424c-c18e-fc5db9fd9540"
      },
      "outputs": [
        {
          "data": {
            "text/plain": [
              "6514"
            ]
          },
          "execution_count": 18,
          "metadata": {},
          "output_type": "execute_result"
        }
      ],
      "source": [
        "sample = sample[(sample['age'] > 16) & (sample['age'] < 91)]\n",
        "\n",
        "sample = sample.dropna()\n",
        "\n",
        "sample.shape[0]"
      ]
    },
    {
      "cell_type": "code",
      "execution_count": null,
      "id": "emotional-instruction",
      "metadata": {
        "id": "emotional-instruction"
      },
      "outputs": [],
      "source": [
        "evalStats = generate_statistics_from_dataframe(sample)\n",
        "\n",
        "statlist['rhs_statistics'] = evalStats; statlist['rhs_name'] = 'Sample'\n",
        "\n",
        "visualize_statistics(**statlist)"
      ]
    },
    {
      "cell_type": "code",
      "execution_count": null,
      "id": "innovative-gossip",
      "metadata": {
        "id": "innovative-gossip",
        "outputId": "ff8adeda-c9ff-46e1-bdae-4747e09b250a"
      },
      "outputs": [
        {
          "data": {
            "text/plain": [
              "3"
            ]
          },
          "execution_count": 20,
          "metadata": {},
          "output_type": "execute_result"
        }
      ],
      "source": [
        "anomalies = validate_statistics(evalStats, schemas)\n",
        "\n",
        "TotalAnomalies = len(anomalies.anomaly_info.items())\n",
        "\n",
        "TotalAnomalies"
      ]
    },
    {
      "cell_type": "code",
      "execution_count": null,
      "id": "raised-museum",
      "metadata": {
        "scrolled": true,
        "id": "raised-museum"
      },
      "outputs": [],
      "source": [
        "from tensorflow_data_validation import display_anomalies\n",
        "\n",
        "display_anomalies(anomalies)"
      ]
    },
    {
      "cell_type": "code",
      "execution_count": null,
      "id": "aggressive-smell",
      "metadata": {
        "id": "aggressive-smell"
      },
      "outputs": [],
      "source": [
        "from tensorflow_data_validation import get_domain\n",
        "\n",
        "race_column = get_domain(schemas, 'race')\n",
        "\n",
        "assert 'Asian' not in race_column.value, 'Fail !'"
      ]
    },
    {
      "cell_type": "code",
      "execution_count": null,
      "id": "saving-opposition",
      "metadata": {
        "id": "saving-opposition"
      },
      "outputs": [],
      "source": [
        "occ_column = get_domain(schemas, 'occupation')\n",
        "\n",
        "assert 'Gamer' not in occ_column.value, 'Fail !'"
      ]
    },
    {
      "cell_type": "code",
      "execution_count": null,
      "id": "existing-correction",
      "metadata": {
        "id": "existing-correction"
      },
      "outputs": [],
      "source": [
        "countries_column = get_domain(schemas, 'native-country')\n",
        "\n",
        "assert 'Mongolia' not in countries_column.value, 'Fail !'"
      ]
    },
    {
      "cell_type": "markdown",
      "id": "capital-breakdown",
      "metadata": {
        "id": "capital-breakdown"
      },
      "source": [
        "#### `Finish Anomalies`"
      ]
    },
    {
      "cell_type": "code",
      "execution_count": null,
      "id": "detailed-product",
      "metadata": {
        "id": "detailed-product",
        "outputId": "d09d1050-ffe5-4879-a562-6956ba191298"
      },
      "outputs": [
        {
          "data": {
            "text/plain": [
              "tensorflow_metadata.proto.v0.schema_pb2.DistributionConstraints"
            ]
          },
          "execution_count": 25,
          "metadata": {},
          "output_type": "execute_result"
        }
      ],
      "source": [
        "from tensorflow_data_validation import get_feature\n",
        "\n",
        "occ_col_feature = get_feature(schemas, 'occupation')\n",
        "\n",
        "type(occ_col_feature.distribution_constraints)"
      ]
    },
    {
      "cell_type": "code",
      "execution_count": null,
      "id": "banner-guatemala",
      "metadata": {
        "id": "banner-guatemala",
        "outputId": "51a6f413-874a-4247-e0e6-577725618263"
      },
      "outputs": [
        {
          "data": {
            "text/plain": [
              "1.0"
            ]
          },
          "execution_count": 26,
          "metadata": {},
          "output_type": "execute_result"
        }
      ],
      "source": [
        "occ_col_feature.distribution_constraints.min_domain_mass"
      ]
    },
    {
      "cell_type": "code",
      "execution_count": null,
      "id": "consistent-continuity",
      "metadata": {
        "id": "consistent-continuity",
        "outputId": "3647b096-88b2-4b46-83ed-b32318c5e6b0"
      },
      "outputs": [
        {
          "data": {
            "text/plain": [
              "0.9"
            ]
          },
          "execution_count": 27,
          "metadata": {},
          "output_type": "execute_result"
        }
      ],
      "source": [
        "occ_col_feature.distribution_constraints.min_domain_mass = 0.9\n",
        "\n",
        "occ_col_feature.distribution_constraints.min_domain_mass"
      ]
    },
    {
      "cell_type": "code",
      "execution_count": null,
      "id": "armed-pharmacology",
      "metadata": {
        "id": "armed-pharmacology",
        "outputId": "97953a84-d5cb-4781-839e-6eae73b5f7ec"
      },
      "outputs": [
        {
          "data": {
            "text/plain": [
              "1.0"
            ]
          },
          "execution_count": 28,
          "metadata": {},
          "output_type": "execute_result"
        }
      ],
      "source": [
        "countries_col_feat = get_feature(schemas, 'native-country')\n",
        "\n",
        "countries_col_feat.distribution_constraints.min_domain_mass"
      ]
    },
    {
      "cell_type": "code",
      "execution_count": null,
      "id": "instrumental-robin",
      "metadata": {
        "id": "instrumental-robin",
        "outputId": "c07203aa-006e-4c84-8b8c-a5a546c9d938"
      },
      "outputs": [
        {
          "data": {
            "text/plain": [
              "0.9"
            ]
          },
          "execution_count": 29,
          "metadata": {},
          "output_type": "execute_result"
        }
      ],
      "source": [
        "countries_col_feat.distribution_constraints.min_domain_mass = 0.9\n",
        "\n",
        "countries_col_feat.distribution_constraints.min_domain_mass"
      ]
    },
    {
      "cell_type": "code",
      "execution_count": null,
      "id": "monetary-story",
      "metadata": {
        "id": "monetary-story",
        "outputId": "668ec36e-ddfd-4c93-8971-99472c6d49d6"
      },
      "outputs": [
        {
          "data": {
            "text/plain": [
              "1"
            ]
          },
          "execution_count": 30,
          "metadata": {},
          "output_type": "execute_result"
        }
      ],
      "source": [
        "anomalies = validate_statistics(evalStats, schemas)\n",
        "\n",
        "TotalAnomalies = len(anomalies.anomaly_info.items())\n",
        "\n",
        "TotalAnomalies"
      ]
    },
    {
      "cell_type": "code",
      "execution_count": null,
      "id": "resident-mirror",
      "metadata": {
        "id": "resident-mirror"
      },
      "outputs": [],
      "source": [
        "race_column.value.append('Asian')\n",
        "\n",
        "assert 'Asian' in race_column.value, 'Fail !'"
      ]
    },
    {
      "cell_type": "code",
      "execution_count": null,
      "id": "competent-harvest",
      "metadata": {
        "id": "competent-harvest",
        "outputId": "c58595a6-3d56-46b4-fa4b-289a16d932dc"
      },
      "outputs": [
        {
          "data": {
            "text/plain": [
              "0"
            ]
          },
          "execution_count": 32,
          "metadata": {},
          "output_type": "execute_result"
        }
      ],
      "source": [
        "anomalies = validate_statistics(evalStats, schemas)\n",
        "\n",
        "TotalAnomalies = len(anomalies.anomaly_info.items())\n",
        "\n",
        "TotalAnomalies"
      ]
    },
    {
      "cell_type": "code",
      "execution_count": null,
      "id": "medical-vienna",
      "metadata": {
        "id": "medical-vienna"
      },
      "outputs": [],
      "source": [
        "from tensorflow_metadata.proto.v0 import schema_pb2\n",
        "\n",
        "from tensorflow_data_validation import set_domain\n",
        "\n",
        "limit = schema_pb2.IntDomain(name='age', min=17, max=90)\n",
        "\n",
        "set_domain(schemas, 'age', limit)\n",
        "\n",
        "display_schema(schemas)"
      ]
    },
    {
      "cell_type": "code",
      "execution_count": null,
      "id": "secondary-survival",
      "metadata": {
        "id": "secondary-survival"
      },
      "outputs": [],
      "source": [
        "from tensorflow_data_validation.utils import slicing_util\n",
        "\n",
        "sex_slicer = slicing_util.get_feature_value_slicer(features={'sex': None})"
      ]
    },
    {
      "cell_type": "markdown",
      "id": "short-landscape",
      "metadata": {
        "id": "short-landscape"
      },
      "source": [
        "#### `Male & Female`"
      ]
    },
    {
      "cell_type": "code",
      "execution_count": null,
      "id": "chemical-hello",
      "metadata": {
        "id": "chemical-hello"
      },
      "outputs": [],
      "source": [
        "from tensorflow_data_validation import StatsOptions\n",
        "\n",
        "slice_options = StatsOptions(schema=schemas, slice_functions=[sex_slicer], infer_type_from_schema=True)"
      ]
    },
    {
      "cell_type": "code",
      "execution_count": null,
      "id": "extraordinary-resort",
      "metadata": {
        "id": "extraordinary-resort"
      },
      "outputs": [],
      "source": [
        "train.to_csv('slice_train_sample.csv')"
      ]
    },
    {
      "cell_type": "code",
      "execution_count": null,
      "id": "intended-twist",
      "metadata": {
        "scrolled": false,
        "id": "intended-twist"
      },
      "outputs": [],
      "source": [
        "from tensorflow_data_validation import generate_statistics_from_csv\n",
        "\n",
        "url = 'slice_train_sample.csv'\n",
        "\n",
        "train_slice_stats = generate_statistics_from_csv(url, stats_options=slice_options)"
      ]
    },
    {
      "cell_type": "code",
      "execution_count": null,
      "id": "changed-period",
      "metadata": {
        "id": "changed-period",
        "outputId": "fe3dd9a1-a66d-4f3f-b745-1e5c4dc8f29d"
      },
      "outputs": [
        {
          "data": {
            "text/plain": [
              "['All Examples', 'sex_Male', 'sex_Female']"
            ]
          },
          "execution_count": 38,
          "metadata": {},
          "output_type": "execute_result"
        }
      ],
      "source": [
        "[sliced.name for sliced in train_slice_stats.datasets]"
      ]
    },
    {
      "cell_type": "code",
      "execution_count": null,
      "id": "premium-discovery",
      "metadata": {
        "id": "premium-discovery",
        "outputId": "7ce7e374-eb9b-486b-e1ab-be7dcf6b44f9"
      },
      "outputs": [
        {
          "data": {
            "text/plain": [
              "3"
            ]
          },
          "execution_count": 39,
          "metadata": {},
          "output_type": "execute_result"
        }
      ],
      "source": [
        "total_examples = len(train_slice_stats.datasets)\n",
        "\n",
        "total_examples"
      ]
    },
    {
      "cell_type": "code",
      "execution_count": null,
      "id": "earlier-scroll",
      "metadata": {
        "id": "earlier-scroll",
        "outputId": "59c96b6f-bab3-47b7-8b41-8cd50acaf557"
      },
      "outputs": [
        {
          "data": {
            "text/plain": [
              "'sex_Male'"
            ]
          },
          "execution_count": 40,
          "metadata": {},
          "output_type": "execute_result"
        }
      ],
      "source": [
        "from tensorflow_metadata.proto.v0.statistics_pb2 import DatasetFeatureStatisticsList\n",
        "\n",
        "male_stats_list = DatasetFeatureStatisticsList()\n",
        "\n",
        "male_stats_list.datasets.extend([train_slice_stats.datasets[1]])\n",
        "\n",
        "male_stats_name = train_slice_stats.datasets[1].name\n",
        "\n",
        "male_stats_name"
      ]
    },
    {
      "cell_type": "code",
      "execution_count": null,
      "id": "modified-munich",
      "metadata": {
        "id": "modified-munich",
        "outputId": "f0790888-f166-46f1-de09-5afd4f1db74b"
      },
      "outputs": [
        {
          "data": {
            "text/plain": [
              "'sex_Female'"
            ]
          },
          "execution_count": 41,
          "metadata": {},
          "output_type": "execute_result"
        }
      ],
      "source": [
        "female_stats_list = DatasetFeatureStatisticsList()\n",
        "\n",
        "female_stats_list.datasets.extend([train_slice_stats.datasets[2]])\n",
        "\n",
        "female_stats_name = train_slice_stats.datasets[2].name\n",
        "\n",
        "female_stats_name"
      ]
    },
    {
      "cell_type": "code",
      "execution_count": null,
      "id": "atomic-mentor",
      "metadata": {
        "id": "atomic-mentor"
      },
      "outputs": [],
      "source": [
        "statlist = {}\n",
        "\n",
        "statlist['lhs_statistics'] = male_stats_list; statlist['lhs_name'] = male_stats_name\n",
        "\n",
        "statlist['rhs_statistics'] = female_stats_list; statlist['rhs_name'] = female_stats_name\n",
        "\n",
        "visualize_statistics(**statlist)"
      ]
    }
  ],
  "metadata": {
    "kernelspec": {
      "display_name": "Python 3",
      "language": "python",
      "name": "python3"
    },
    "language_info": {
      "codemirror_mode": {
        "name": "ipython",
        "version": 3
      },
      "file_extension": ".py",
      "mimetype": "text/x-python",
      "name": "python",
      "nbconvert_exporter": "python",
      "pygments_lexer": "ipython3",
      "version": "3.8.8"
    },
    "colab": {
      "provenance": []
    }
  },
  "nbformat": 4,
  "nbformat_minor": 5
}