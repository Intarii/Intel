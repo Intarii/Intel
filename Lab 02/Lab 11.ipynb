{
 "cells": [
  {
   "cell_type": "code",
   "execution_count": 1,
   "id": "moving-glasgow",
   "metadata": {},
   "outputs": [],
   "source": [
    "import os, tempfile, urllib, zipfile, pandas, absl\n",
    "\n",
    "import pandas\n",
    "\n",
    "import tensorflow as tf\n",
    "\n",
    "from tfx.components import CsvExampleGen\n",
    "\n",
    "tf.get_logger().setLevel('ERROR')"
   ]
  },
  {
   "cell_type": "code",
   "execution_count": 2,
   "id": "revised-horror",
   "metadata": {},
   "outputs": [
    {
     "data": {
      "text/plain": [
       "(101766, 50)"
      ]
     },
     "execution_count": 2,
     "metadata": {},
     "output_type": "execute_result"
    }
   ],
   "source": [
    "url = 'data/diabetic_data.csv'\n",
    "\n",
    "data = pandas.read_table(url, header=0, na_values='?', sep=',')\n",
    "\n",
    "data.shape"
   ]
  },
  {
   "cell_type": "code",
   "execution_count": 3,
   "id": "happy-instrument",
   "metadata": {},
   "outputs": [
    {
     "data": {
      "text/html": [
       "<div>\n",
       "<style scoped>\n",
       "    .dataframe tbody tr th:only-of-type {\n",
       "        vertical-align: middle;\n",
       "    }\n",
       "\n",
       "    .dataframe tbody tr th {\n",
       "        vertical-align: top;\n",
       "    }\n",
       "\n",
       "    .dataframe thead th {\n",
       "        text-align: right;\n",
       "    }\n",
       "</style>\n",
       "<table border=\"1\" class=\"dataframe\">\n",
       "  <thead>\n",
       "    <tr style=\"text-align: right;\">\n",
       "      <th></th>\n",
       "      <th>encounter_id</th>\n",
       "      <th>patient_nbr</th>\n",
       "      <th>race</th>\n",
       "      <th>gender</th>\n",
       "      <th>age</th>\n",
       "    </tr>\n",
       "  </thead>\n",
       "  <tbody>\n",
       "    <tr>\n",
       "      <th>0</th>\n",
       "      <td>2278392</td>\n",
       "      <td>8222157</td>\n",
       "      <td>Caucasian</td>\n",
       "      <td>Female</td>\n",
       "      <td>[0-10)</td>\n",
       "    </tr>\n",
       "    <tr>\n",
       "      <th>1</th>\n",
       "      <td>149190</td>\n",
       "      <td>55629189</td>\n",
       "      <td>Caucasian</td>\n",
       "      <td>Female</td>\n",
       "      <td>[10-20)</td>\n",
       "    </tr>\n",
       "    <tr>\n",
       "      <th>2</th>\n",
       "      <td>64410</td>\n",
       "      <td>86047875</td>\n",
       "      <td>AfricanAmerican</td>\n",
       "      <td>Female</td>\n",
       "      <td>[20-30)</td>\n",
       "    </tr>\n",
       "    <tr>\n",
       "      <th>3</th>\n",
       "      <td>500364</td>\n",
       "      <td>82442376</td>\n",
       "      <td>Caucasian</td>\n",
       "      <td>Male</td>\n",
       "      <td>[30-40)</td>\n",
       "    </tr>\n",
       "    <tr>\n",
       "      <th>4</th>\n",
       "      <td>16680</td>\n",
       "      <td>42519267</td>\n",
       "      <td>Caucasian</td>\n",
       "      <td>Male</td>\n",
       "      <td>[40-50)</td>\n",
       "    </tr>\n",
       "  </tbody>\n",
       "</table>\n",
       "</div>"
      ],
      "text/plain": [
       "   encounter_id  patient_nbr             race  gender      age\n",
       "0       2278392      8222157        Caucasian  Female   [0-10)\n",
       "1        149190     55629189        Caucasian  Female  [10-20)\n",
       "2         64410     86047875  AfricanAmerican  Female  [20-30)\n",
       "3        500364     82442376        Caucasian    Male  [30-40)\n",
       "4         16680     42519267        Caucasian    Male  [40-50)"
      ]
     },
     "execution_count": 3,
     "metadata": {},
     "output_type": "execute_result"
    }
   ],
   "source": [
    "data.iloc[:5, :5]"
   ]
  },
  {
   "cell_type": "code",
   "execution_count": 4,
   "id": "radical-manhattan",
   "metadata": {},
   "outputs": [
    {
     "data": {
      "text/html": [
       "<div>\n",
       "<style scoped>\n",
       "    .dataframe tbody tr th:only-of-type {\n",
       "        vertical-align: middle;\n",
       "    }\n",
       "\n",
       "    .dataframe tbody tr th {\n",
       "        vertical-align: top;\n",
       "    }\n",
       "\n",
       "    .dataframe thead th {\n",
       "        text-align: right;\n",
       "    }\n",
       "</style>\n",
       "<table border=\"1\" class=\"dataframe\">\n",
       "  <thead>\n",
       "    <tr style=\"text-align: right;\">\n",
       "      <th></th>\n",
       "      <th>metformin-rosiglitazone</th>\n",
       "      <th>metformin-pioglitazone</th>\n",
       "      <th>change</th>\n",
       "      <th>diabetesMed</th>\n",
       "      <th>readmitted</th>\n",
       "    </tr>\n",
       "  </thead>\n",
       "  <tbody>\n",
       "    <tr>\n",
       "      <th>0</th>\n",
       "      <td>No</td>\n",
       "      <td>No</td>\n",
       "      <td>No</td>\n",
       "      <td>No</td>\n",
       "      <td>NO</td>\n",
       "    </tr>\n",
       "    <tr>\n",
       "      <th>1</th>\n",
       "      <td>No</td>\n",
       "      <td>No</td>\n",
       "      <td>Ch</td>\n",
       "      <td>Yes</td>\n",
       "      <td>&gt;30</td>\n",
       "    </tr>\n",
       "    <tr>\n",
       "      <th>2</th>\n",
       "      <td>No</td>\n",
       "      <td>No</td>\n",
       "      <td>No</td>\n",
       "      <td>Yes</td>\n",
       "      <td>NO</td>\n",
       "    </tr>\n",
       "    <tr>\n",
       "      <th>3</th>\n",
       "      <td>No</td>\n",
       "      <td>No</td>\n",
       "      <td>Ch</td>\n",
       "      <td>Yes</td>\n",
       "      <td>NO</td>\n",
       "    </tr>\n",
       "    <tr>\n",
       "      <th>4</th>\n",
       "      <td>No</td>\n",
       "      <td>No</td>\n",
       "      <td>Ch</td>\n",
       "      <td>Yes</td>\n",
       "      <td>NO</td>\n",
       "    </tr>\n",
       "  </tbody>\n",
       "</table>\n",
       "</div>"
      ],
      "text/plain": [
       "  metformin-rosiglitazone metformin-pioglitazone change diabetesMed readmitted\n",
       "0                      No                     No     No          No         NO\n",
       "1                      No                     No     Ch         Yes        >30\n",
       "2                      No                     No     No         Yes         NO\n",
       "3                      No                     No     Ch         Yes         NO\n",
       "4                      No                     No     Ch         Yes         NO"
      ]
     },
     "execution_count": 4,
     "metadata": {},
     "output_type": "execute_result"
    }
   ],
   "source": [
    "data.iloc[:5, 45:]"
   ]
  },
  {
   "cell_type": "code",
   "execution_count": 5,
   "id": "tamil-gregory",
   "metadata": {},
   "outputs": [
    {
     "data": {
      "text/plain": [
       "192849"
      ]
     },
     "execution_count": 5,
     "metadata": {},
     "output_type": "execute_result"
    }
   ],
   "source": [
    "null = data.isnull().sum()\n",
    "\n",
    "null.sum()"
   ]
  },
  {
   "cell_type": "code",
   "execution_count": 6,
   "id": "international-senior",
   "metadata": {},
   "outputs": [],
   "source": [
    "from sklearn.model_selection import train_test_split\n",
    "\n",
    "test_part = 0.3\n",
    "\n",
    "train, test = train_test_split(data, test_size=test_part, shuffle=False)\n",
    "\n",
    "test, eval = train_test_split(test, test_size=0.5, shuffle=False)"
   ]
  },
  {
   "cell_type": "code",
   "execution_count": 7,
   "id": "female-tolerance",
   "metadata": {},
   "outputs": [
    {
     "data": {
      "text/plain": [
       "(15265, 49)"
      ]
     },
     "execution_count": 7,
     "metadata": {},
     "output_type": "execute_result"
    }
   ],
   "source": [
    "eval = eval.drop('readmitted', axis='columns')\n",
    "\n",
    "eval.shape"
   ]
  },
  {
   "cell_type": "code",
   "execution_count": 8,
   "id": "awful-franchise",
   "metadata": {},
   "outputs": [],
   "source": [
    "from tensorflow_data_validation import StatsOptions\n",
    "\n",
    "remopal = ['encounter_id', 'patient_nbr']\n",
    "\n",
    "stats_cols = [col for col in data.columns if (col not in remopal)]\n",
    "\n",
    "stats_options = StatsOptions(feature_allowlist=stats_cols)"
   ]
  },
  {
   "cell_type": "code",
   "execution_count": 9,
   "id": "arctic-treat",
   "metadata": {},
   "outputs": [],
   "source": [
    "from tensorflow_data_validation import generate_statistics_from_dataframe\n",
    "\n",
    "train_stats = generate_statistics_from_dataframe(train, stats_options=stats_options)"
   ]
  },
  {
   "cell_type": "code",
   "execution_count": 10,
   "id": "regular-dressing",
   "metadata": {},
   "outputs": [
    {
     "data": {
      "text/plain": [
       "48"
      ]
     },
     "execution_count": 10,
     "metadata": {},
     "output_type": "execute_result"
    }
   ],
   "source": [
    "len(train_stats.datasets[0].features)"
   ]
  },
  {
   "cell_type": "code",
   "execution_count": 11,
   "id": "floating-charles",
   "metadata": {},
   "outputs": [
    {
     "data": {
      "text/plain": [
       "71236"
      ]
     },
     "execution_count": 11,
     "metadata": {},
     "output_type": "execute_result"
    }
   ],
   "source": [
    "train_stats.datasets[0].num_examples"
   ]
  },
  {
   "cell_type": "code",
   "execution_count": 12,
   "id": "alternate-advocacy",
   "metadata": {},
   "outputs": [
    {
     "data": {
      "text/plain": [
       "'race'"
      ]
     },
     "execution_count": 12,
     "metadata": {},
     "output_type": "execute_result"
    }
   ],
   "source": [
    "train_stats.datasets[0].features[0].path.step[0]"
   ]
  },
  {
   "cell_type": "code",
   "execution_count": 13,
   "id": "white-blind",
   "metadata": {},
   "outputs": [],
   "source": [
    "from tensorflow_data_validation import visualize_statistics\n",
    "\n",
    "visualize_statistics(train_stats)"
   ]
  },
  {
   "cell_type": "code",
   "execution_count": 14,
   "id": "prescription-surname",
   "metadata": {},
   "outputs": [],
   "source": [
    "from tensorflow_data_validation import infer_schema, display_schema\n",
    "\n",
    "schemas = infer_schema(train_stats)\n",
    "\n",
    "display_schema(schemas)"
   ]
  },
  {
   "cell_type": "code",
   "execution_count": 15,
   "id": "south-listening",
   "metadata": {},
   "outputs": [
    {
     "data": {
      "text/plain": [
       "48"
      ]
     },
     "execution_count": 15,
     "metadata": {},
     "output_type": "execute_result"
    }
   ],
   "source": [
    "len(schemas.feature)"
   ]
  },
  {
   "cell_type": "code",
   "execution_count": null,
   "id": "conditional-companion",
   "metadata": {},
   "outputs": [],
   "source": [
    "test_stats = generate_statistics_from_dataframe(test, stats_options=stats_options)\n",
    "\n",
    "visualize_statistics(test_stats)"
   ]
  },
  {
   "cell_type": "code",
   "execution_count": 17,
   "id": "statewide-racing",
   "metadata": {},
   "outputs": [],
   "source": [
    "statlist = {}\n",
    "\n",
    "statlist['lhs_statistics'] = test_stats; statlist['lhs_name'] = 'Test Data'\n",
    "\n",
    "statlist['rhs_statistics'] = train_stats; statlist['rhs_name'] = 'Train Data'\n",
    "\n",
    "visualize_statistics(**statlist)"
   ]
  },
  {
   "cell_type": "code",
   "execution_count": 18,
   "id": "abstract-sessions",
   "metadata": {},
   "outputs": [
    {
     "data": {
      "text/plain": [
       "0"
      ]
     },
     "execution_count": 18,
     "metadata": {},
     "output_type": "execute_result"
    }
   ],
   "source": [
    "from tensorflow_data_validation import validate_statistics\n",
    "\n",
    "anomalies = validate_statistics(statistics=train_stats, schema=schemas)\n",
    "\n",
    "TotalAnomalies = len(anomalies.anomaly_info.items())\n",
    "\n",
    "TotalAnomalies"
   ]
  },
  {
   "cell_type": "code",
   "execution_count": 19,
   "id": "choice-nickname",
   "metadata": {},
   "outputs": [
    {
     "data": {
      "text/plain": [
       "2"
      ]
     },
     "execution_count": 19,
     "metadata": {},
     "output_type": "execute_result"
    }
   ],
   "source": [
    "anomalies = validate_statistics(statistics=test_stats, schema=schemas)\n",
    "\n",
    "TotalAnomalies = len(anomalies.anomaly_info.items())\n",
    "\n",
    "TotalAnomalies"
   ]
  }
 ],
 "metadata": {
  "kernelspec": {
   "display_name": "Python 3",
   "language": "python",
   "name": "python3"
  },
  "language_info": {
   "codemirror_mode": {
    "name": "ipython",
    "version": 3
   },
   "file_extension": ".py",
   "mimetype": "text/x-python",
   "name": "python",
   "nbconvert_exporter": "python",
   "pygments_lexer": "ipython3",
   "version": "3.8.8"
  }
 },
 "nbformat": 4,
 "nbformat_minor": 5
}
