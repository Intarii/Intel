{
  "cells": [
    {
      "cell_type": "code",
      "execution_count": null,
      "id": "registered-adventure",
      "metadata": {
        "id": "registered-adventure"
      },
      "outputs": [],
      "source": [
        "import os, tempfile, urllib, zipfile, pandas\n",
        "\n",
        "import tensorflow_data_validation as tfdv"
      ]
    },
    {
      "cell_type": "code",
      "execution_count": null,
      "id": "veterinary-edmonton",
      "metadata": {
        "id": "veterinary-edmonton",
        "outputId": "aed5e45b-4186-43e1-ab8c-fbfd37295902"
      },
      "outputs": [
        {
          "data": {
            "text/plain": [
              "(101766, 50)"
            ]
          },
          "execution_count": 2,
          "metadata": {},
          "output_type": "execute_result"
        }
      ],
      "source": [
        "url = 'data/diabetic_data.csv'\n",
        "\n",
        "data = pandas.read_table(url, na_values='?', sep=',')\n",
        "\n",
        "data.shape"
      ]
    },
    {
      "cell_type": "code",
      "execution_count": null,
      "id": "victorian-scope",
      "metadata": {
        "id": "victorian-scope",
        "outputId": "35497dfb-18f6-49fa-ba93-0ba210210252"
      },
      "outputs": [
        {
          "data": {
            "text/plain": [
              "71236"
            ]
          },
          "execution_count": 3,
          "metadata": {},
          "output_type": "execute_result"
        }
      ],
      "source": [
        "from sklearn.model_selection import train_test_split\n",
        "\n",
        "train_split = 0.7\n",
        "\n",
        "train, test = train_test_split(data, train_size=train_split, shuffle=False)\n",
        "\n",
        "total_train = train.shape[0]\n",
        "\n",
        "total_train"
      ]
    },
    {
      "cell_type": "code",
      "execution_count": null,
      "id": "republican-reporter",
      "metadata": {
        "id": "republican-reporter",
        "outputId": "e20e693c-577c-42d1-b883-028b23416fab"
      },
      "outputs": [
        {
          "data": {
            "text/plain": [
              "15265"
            ]
          },
          "execution_count": 4,
          "metadata": {},
          "output_type": "execute_result"
        }
      ],
      "source": [
        "test_split = 0.5\n",
        "\n",
        "test, eval = train_test_split(test, test_size=test_split, shuffle=False)\n",
        "\n",
        "total_test = test.shape[0]\n",
        "\n",
        "total_test"
      ]
    },
    {
      "cell_type": "code",
      "execution_count": null,
      "id": "known-disorder",
      "metadata": {
        "id": "known-disorder"
      },
      "outputs": [],
      "source": [
        "assert test.shape[0] == eval.shape[0], 'Fail !'"
      ]
    },
    {
      "cell_type": "code",
      "execution_count": null,
      "id": "generous-workshop",
      "metadata": {
        "id": "generous-workshop"
      },
      "outputs": [],
      "source": [
        "from tensorflow_data_validation import StatsOptions\n",
        "\n",
        "remopal = ['encounter_id', 'patient_nbr']\n",
        "\n",
        "usecols = [i for i in data.columns if i not in remopal]\n",
        "\n",
        "stats_options = StatsOptions(feature_allowlist = usecols)"
      ]
    },
    {
      "cell_type": "code",
      "execution_count": null,
      "id": "underlying-temperature",
      "metadata": {
        "id": "underlying-temperature"
      },
      "outputs": [],
      "source": [
        "from tensorflow_data_validation import generate_statistics_from_dataframe\n",
        "\n",
        "trainStats = generate_statistics_from_dataframe(train, stats_options=stats_options)\n",
        "\n",
        "testStats = generate_statistics_from_dataframe(test, stats_options=stats_options)\n",
        "\n",
        "evalStats = generate_statistics_from_dataframe(eval, stats_options=stats_options)"
      ]
    },
    {
      "cell_type": "code",
      "execution_count": null,
      "id": "earned-specific",
      "metadata": {
        "id": "earned-specific",
        "outputId": "2ed3ee47-ab81-4e90-9a98-5b58d4fc3c71"
      },
      "outputs": [
        {
          "data": {
            "text/plain": [
              "48"
            ]
          },
          "execution_count": 8,
          "metadata": {},
          "output_type": "execute_result"
        }
      ],
      "source": [
        "totalFeatures = len(trainStats.datasets[0].features)\n",
        "\n",
        "totalFeatures"
      ]
    },
    {
      "cell_type": "code",
      "execution_count": null,
      "id": "arabic-philippines",
      "metadata": {
        "id": "arabic-philippines"
      },
      "outputs": [],
      "source": [
        "from tensorflow_data_validation import visualize_statistics\n",
        "\n",
        "visualize_statistics(trainStats)"
      ]
    },
    {
      "cell_type": "code",
      "execution_count": null,
      "id": "complimentary-omaha",
      "metadata": {
        "id": "complimentary-omaha"
      },
      "outputs": [],
      "source": [
        "from tensorflow_data_validation import infer_schema, display_schema\n",
        "\n",
        "schemas = infer_schema(trainStats)\n",
        "\n",
        "display_schema(schemas)"
      ]
    },
    {
      "cell_type": "code",
      "execution_count": null,
      "id": "monetary-bloom",
      "metadata": {
        "id": "monetary-bloom"
      },
      "outputs": [],
      "source": [
        "assert len(schemas.feature) == totalFeatures, 'Fail !'"
      ]
    },
    {
      "cell_type": "code",
      "execution_count": null,
      "id": "fifty-maldives",
      "metadata": {
        "id": "fifty-maldives"
      },
      "outputs": [],
      "source": [
        "statlist = {}\n",
        "\n",
        "statlist['lhs_statistics'] = evalStats; statlist['lhs_statistics'] = 'Eval'\n",
        "\n",
        "statlist['rhs_statistics'] = trainStats; statlist['rhs_name'] = 'Train'\n",
        "\n",
        "visualize_statistics(**statlist)"
      ]
    },
    {
      "cell_type": "code",
      "execution_count": null,
      "id": "worldwide-default",
      "metadata": {
        "id": "worldwide-default",
        "outputId": "91af31ec-99ec-4e88-fb1d-0a60914fe36a"
      },
      "outputs": [
        {
          "data": {
            "text/plain": [
              "1"
            ]
          },
          "execution_count": 13,
          "metadata": {},
          "output_type": "execute_result"
        }
      ],
      "source": [
        "train[\"glimepiride-pioglitazone\"].nunique()"
      ]
    },
    {
      "cell_type": "code",
      "execution_count": null,
      "id": "southeast-interstate",
      "metadata": {
        "id": "southeast-interstate",
        "outputId": "c24149d3-8f2c-4e9b-94fc-50efa9e228d0"
      },
      "outputs": [
        {
          "data": {
            "text/plain": [
              "2"
            ]
          },
          "execution_count": 14,
          "metadata": {},
          "output_type": "execute_result"
        }
      ],
      "source": [
        "test[\"glimepiride-pioglitazone\"].nunique()"
      ]
    },
    {
      "cell_type": "code",
      "execution_count": null,
      "id": "ordered-bailey",
      "metadata": {
        "id": "ordered-bailey",
        "outputId": "4260cf10-f85e-41dd-fd07-2a641fce94af"
      },
      "outputs": [
        {
          "data": {
            "text/plain": [
              "2"
            ]
          },
          "execution_count": 15,
          "metadata": {},
          "output_type": "execute_result"
        }
      ],
      "source": [
        "from tensorflow_data_validation import validate_statistics\n",
        "\n",
        "anomalies = validate_statistics(testStats, schemas)\n",
        "\n",
        "TotalAnomalies = len(anomalies.anomaly_info.items())\n",
        "\n",
        "TotalAnomalies"
      ]
    },
    {
      "cell_type": "code",
      "execution_count": null,
      "id": "connected-credits",
      "metadata": {
        "id": "connected-credits"
      },
      "outputs": [],
      "source": [
        "from tensorflow_data_validation import display_anomalies\n",
        "\n",
        "display_anomalies(anomalies)"
      ]
    },
    {
      "cell_type": "code",
      "execution_count": null,
      "id": "controlled-biology",
      "metadata": {
        "id": "controlled-biology"
      },
      "outputs": [],
      "source": [
        "from tensorflow_data_validation import get_domain\n",
        "\n",
        "medical_specialty_cols = get_domain(schemas, 'medical_specialty')\n",
        "\n",
        "assert 'Neurophysiology' not in medical_specialty_cols.value, 'Fail !'"
      ]
    },
    {
      "cell_type": "code",
      "execution_count": null,
      "id": "periodic-somerset",
      "metadata": {
        "id": "periodic-somerset"
      },
      "outputs": [],
      "source": [
        "medical_specialty_cols.value.append('Neurophysiology')"
      ]
    },
    {
      "cell_type": "code",
      "execution_count": null,
      "id": "dense-interest",
      "metadata": {
        "id": "dense-interest"
      },
      "outputs": [],
      "source": [
        "glipio_cols = get_domain(schemas, 'glimepiride-pioglitazone')\n",
        "\n",
        "assert 'Steady' not in glipio_cols.value, 'Fail !'"
      ]
    },
    {
      "cell_type": "code",
      "execution_count": null,
      "id": "valuable-immune",
      "metadata": {
        "id": "valuable-immune"
      },
      "outputs": [],
      "source": [
        "glipio_cols.value.append('Steady')"
      ]
    },
    {
      "cell_type": "code",
      "execution_count": null,
      "id": "collective-charleston",
      "metadata": {
        "id": "collective-charleston",
        "outputId": "1ba96bcf-ef1a-4911-a5b2-7a1db206a4d2"
      },
      "outputs": [
        {
          "data": {
            "text/plain": [
              "0"
            ]
          },
          "execution_count": 21,
          "metadata": {},
          "output_type": "execute_result"
        }
      ],
      "source": [
        "anomalies = validate_statistics(testStats, schemas)\n",
        "\n",
        "TotalAnomalies = len(anomalies.anomaly_info.items())\n",
        "\n",
        "TotalAnomalies"
      ]
    }
  ],
  "metadata": {
    "kernelspec": {
      "display_name": "Python 3",
      "language": "python",
      "name": "python3"
    },
    "language_info": {
      "codemirror_mode": {
        "name": "ipython",
        "version": 3
      },
      "file_extension": ".py",
      "mimetype": "text/x-python",
      "name": "python",
      "nbconvert_exporter": "python",
      "pygments_lexer": "ipython3",
      "version": "3.8.8"
    },
    "colab": {
      "provenance": []
    }
  },
  "nbformat": 4,
  "nbformat_minor": 5
}