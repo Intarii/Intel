{
  "nbformat": 4,
  "nbformat_minor": 0,
  "metadata": {
    "colab": {
      "provenance": [],
      "authorship_tag": "ABX9TyOqlQpQbQDhObCAuNv8llXP"
    },
    "kernelspec": {
      "name": "python3",
      "display_name": "Python 3"
    },
    "language_info": {
      "name": "python"
    }
  },
  "cells": [
    {
      "cell_type": "code",
      "execution_count": 1,
      "metadata": {
        "id": "w6VtZNfmkNzf"
      },
      "outputs": [],
      "source": [
        "import tensorflow as tf\n",
        "\n",
        "import keras_tuner as kt\n",
        "\n",
        "from tensorflow.keras import models, layers, datasets"
      ]
    },
    {
      "cell_type": "code",
      "source": [
        "(train_image, train_label), (test_image, test_label) = datasets.fashion_mnist.load_data()"
      ],
      "metadata": {
        "id": "Rl9PhEHokcAM"
      },
      "execution_count": 2,
      "outputs": []
    },
    {
      "cell_type": "code",
      "source": [
        "def rescale(image):\n",
        "  \"\"\"\n",
        "  Helper Function\n",
        "  \"\"\"\n",
        "  image = tf.cast(image, tf.float32) / 255.0\n",
        "\n",
        "  return image\n",
        "\n",
        "train_image = rescale(train_image)\n",
        "\n",
        "test_image = rescale(test_image)"
      ],
      "metadata": {
        "id": "tCLN9K1ekvlg"
      },
      "execution_count": 3,
      "outputs": []
    },
    {
      "cell_type": "code",
      "source": [
        "import warnings; warnings.filterwarnings('ignore')\n",
        "\n",
        "input_shape = (28, 28)\n",
        "\n",
        "model = models.Sequential()\n",
        "\n",
        "model.add(layers.Flatten(input_shape=input_shape))\n",
        "\n",
        "model.add(layers.Dense(16, activation='relu'))\n",
        "\n",
        "model.add(layers.Dense(10, activation='softmax'))"
      ],
      "metadata": {
        "id": "GdBJbr4vloWv"
      },
      "execution_count": 4,
      "outputs": []
    },
    {
      "cell_type": "code",
      "source": [
        "loss = 'sparse_categorical_crossentropy'\n",
        "\n",
        "model.compile(optimizer='adam', loss=loss, metrics=['accuracy'])"
      ],
      "metadata": {
        "id": "Fl3F-b0KmLb7"
      },
      "execution_count": 5,
      "outputs": []
    },
    {
      "cell_type": "code",
      "source": [
        "loop = 10\n",
        "\n",
        "hist = model.fit(train_image, train_label, epochs=loop, validation_data=(test_image, test_label))"
      ],
      "metadata": {
        "id": "addc7IR0mTww"
      },
      "execution_count": 6,
      "outputs": []
    },
    {
      "cell_type": "code",
      "source": [
        "model.evaluate(train_image, train_label, verbose=False)"
      ],
      "metadata": {
        "colab": {
          "base_uri": "https://localhost:8080/"
        },
        "id": "RJNdJt0MngH3",
        "outputId": "ba4e3c5e-50b5-49c0-dba3-db93552d15e7"
      },
      "execution_count": 7,
      "outputs": [
        {
          "output_type": "execute_result",
          "data": {
            "text/plain": [
              "[0.3282566964626312, 0.882266640663147]"
            ]
          },
          "metadata": {},
          "execution_count": 7
        }
      ]
    },
    {
      "cell_type": "code",
      "source": [
        "model.evaluate(test_image, test_label, verbose=False)"
      ],
      "metadata": {
        "colab": {
          "base_uri": "https://localhost:8080/"
        },
        "id": "0FlC08cZnkMd",
        "outputId": "bd3c8bab-6f48-4ce0-942c-666d62af3275"
      },
      "execution_count": 8,
      "outputs": [
        {
          "output_type": "execute_result",
          "data": {
            "text/plain": [
              "[0.4059363305568695, 0.858299970626831]"
            ]
          },
          "metadata": {},
          "execution_count": 8
        }
      ]
    },
    {
      "cell_type": "code",
      "source": [
        "def builder(hp):\n",
        "  \"\"\"\n",
        "  Model Builder\n",
        "  \"\"\"\n",
        "  model = models.Sequential()\n",
        "\n",
        "  model.add(layers.Flatten(input_shape=input_shape))\n",
        "\n",
        "  units = hp.Int('units', min_value=16, max_value=64, step=16)\n",
        "\n",
        "  model.add(layers.Dense(units, activation='relu'))\n",
        "\n",
        "  model.add(layers.Dense(10, activation='softmax'))\n",
        "\n",
        "  model.compile(optimizer='adam', loss=loss, metrics=['accuracy'])\n",
        "\n",
        "  return model"
      ],
      "metadata": {
        "id": "MSrGQbvWZg4i"
      },
      "execution_count": 9,
      "outputs": []
    },
    {
      "cell_type": "code",
      "source": [
        "dir = 'Tuner'\n",
        "\n",
        "target = 'val_accuracy'\n",
        "\n",
        "project = 'Belajar Keras Tuner'\n",
        "\n",
        "tuner = kt.Hyperband(builder, objective=target, max_epochs=loop, directory=dir, project_name=project)"
      ],
      "metadata": {
        "id": "WDh8obUAalrX",
        "outputId": "2929c933-e22e-4317-cd14-02537dc36260",
        "colab": {
          "base_uri": "https://localhost:8080/"
        }
      },
      "execution_count": 10,
      "outputs": [
        {
          "output_type": "stream",
          "name": "stdout",
          "text": [
            "Reloading Tuner from Tuner/Belajar Keras Tuner/tuner0.json\n"
          ]
        }
      ]
    },
    {
      "cell_type": "code",
      "source": [
        "tuner.search(train_image, train_label, validation_data=(test_image, test_label), epochs=loop)"
      ],
      "metadata": {
        "id": "dys_UoJSbTow"
      },
      "execution_count": 11,
      "outputs": []
    },
    {
      "cell_type": "code",
      "source": [
        "optima = tuner.get_best_hyperparameters()[0]\n",
        "\n",
        "optima.get('units')"
      ],
      "metadata": {
        "id": "9pE8jIoIcPwU",
        "outputId": "4eba30fa-856d-4f36-b0a2-50a4370ce9b1",
        "colab": {
          "base_uri": "https://localhost:8080/"
        }
      },
      "execution_count": 12,
      "outputs": [
        {
          "output_type": "execute_result",
          "data": {
            "text/plain": [
              "64"
            ]
          },
          "metadata": {},
          "execution_count": 12
        }
      ]
    },
    {
      "cell_type": "code",
      "source": [
        "resulta = tuner.get_best_models()[0]\n",
        "\n",
        "hist = resulta.fit(train_image, train_label, validation_data=(test_image, test_label), epochs=loop)"
      ],
      "metadata": {
        "id": "ZmjBp6__cVPm"
      },
      "execution_count": 13,
      "outputs": []
    },
    {
      "cell_type": "code",
      "source": [
        "resulta.evaluate(train_image, train_label)"
      ],
      "metadata": {
        "id": "uttqtz-mdZ04",
        "outputId": "f2ffc9db-20ad-4e5b-eb32-d4b31633390f",
        "colab": {
          "base_uri": "https://localhost:8080/"
        }
      },
      "execution_count": 14,
      "outputs": [
        {
          "output_type": "execute_result",
          "data": {
            "text/plain": [
              "[0.23577918112277985, 0.9132833480834961]"
            ]
          },
          "metadata": {},
          "execution_count": 14
        }
      ]
    },
    {
      "cell_type": "code",
      "source": [
        "resulta.evaluate(test_image, test_label)"
      ],
      "metadata": {
        "id": "oJ3sKgUpdfSK",
        "outputId": "ce7d1ebe-9967-4071-cfc5-6185305ce79c",
        "colab": {
          "base_uri": "https://localhost:8080/"
        }
      },
      "execution_count": 15,
      "outputs": [
        {
          "output_type": "execute_result",
          "data": {
            "text/plain": [
              "[0.347107857465744, 0.8809999823570251]"
            ]
          },
          "metadata": {},
          "execution_count": 15
        }
      ]
    }
  ]
}