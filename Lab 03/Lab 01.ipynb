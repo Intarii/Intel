{
  "cells": [
    {
      "cell_type": "code",
      "execution_count": 1,
      "metadata": {
        "id": "w6VtZNfmkNzf"
      },
      "outputs": [],
      "source": [
        "import tensorflow as tf\n",
        "\n",
        "import keras_tuner as kt\n",
        "\n",
        "from tensorflow.keras import models, layers, datasets"
      ]
    },
    {
      "cell_type": "code",
      "execution_count": 2,
      "metadata": {
        "id": "Rl9PhEHokcAM"
      },
      "outputs": [],
      "source": [
        "(train_image, train_label), (test_image, test_label) = datasets.fashion_mnist.load_data()"
      ]
    },
    {
      "cell_type": "code",
      "execution_count": 3,
      "metadata": {
        "id": "tCLN9K1ekvlg"
      },
      "outputs": [],
      "source": [
        "def rescale(image):\n",
        "  \"\"\"\n",
        "  Helper Function\n",
        "  \"\"\"\n",
        "  image = tf.cast(image, tf.float32) / 255.0\n",
        "\n",
        "  return image\n",
        "\n",
        "train_image = rescale(train_image)\n",
        "\n",
        "test_image = rescale(test_image)"
      ]
    },
    {
      "cell_type": "code",
      "execution_count": 4,
      "metadata": {
        "id": "GdBJbr4vloWv"
      },
      "outputs": [],
      "source": [
        "import warnings; warnings.filterwarnings('ignore')\n",
        "\n",
        "input_shape = (28, 28)\n",
        "\n",
        "model = models.Sequential()\n",
        "\n",
        "model.add(layers.Flatten(input_shape=input_shape))\n",
        "\n",
        "model.add(layers.Dense(16, activation='relu'))\n",
        "\n",
        "model.add(layers.Dense(10, activation='softmax'))"
      ]
    },
    {
      "cell_type": "code",
      "execution_count": 5,
      "metadata": {
        "id": "Fl3F-b0KmLb7"
      },
      "outputs": [],
      "source": [
        "loss = 'sparse_categorical_crossentropy'\n",
        "\n",
        "model.compile(optimizer='adam', loss=loss, metrics=['accuracy'])"
      ]
    },
    {
      "cell_type": "code",
      "execution_count": 6,
      "metadata": {
        "id": "addc7IR0mTww"
      },
      "outputs": [],
      "source": [
        "loop = 10\n",
        "\n",
        "hist = model.fit(train_image, train_label, epochs=loop, validation_data=(test_image, test_label))"
      ]
    },
    {
      "cell_type": "code",
      "execution_count": 7,
      "metadata": {
        "colab": {
          "base_uri": "https://localhost:8080/"
        },
        "id": "RJNdJt0MngH3",
        "outputId": "ba4e3c5e-50b5-49c0-dba3-db93552d15e7"
      },
      "outputs": [
        {
          "data": {
            "text/plain": [
              "[0.3282566964626312, 0.882266640663147]"
            ]
          },
          "execution_count": 7,
          "metadata": {},
          "output_type": "execute_result"
        }
      ],
      "source": [
        "model.evaluate(train_image, train_label, verbose=False)"
      ]
    },
    {
      "cell_type": "code",
      "execution_count": 8,
      "metadata": {
        "colab": {
          "base_uri": "https://localhost:8080/"
        },
        "id": "0FlC08cZnkMd",
        "outputId": "bd3c8bab-6f48-4ce0-942c-666d62af3275"
      },
      "outputs": [
        {
          "data": {
            "text/plain": [
              "[0.4059363305568695, 0.858299970626831]"
            ]
          },
          "execution_count": 8,
          "metadata": {},
          "output_type": "execute_result"
        }
      ],
      "source": [
        "model.evaluate(test_image, test_label, verbose=False)"
      ]
    },
    {
      "cell_type": "code",
      "execution_count": 9,
      "metadata": {
        "id": "MSrGQbvWZg4i"
      },
      "outputs": [],
      "source": [
        "def builder(hp):\n",
        "  \"\"\"\n",
        "  Model Builder\n",
        "  \"\"\"\n",
        "  model = models.Sequential()\n",
        "\n",
        "  model.add(layers.Flatten(input_shape=input_shape))\n",
        "\n",
        "  units = hp.Int('units', min_value=16, max_value=64, step=16)\n",
        "\n",
        "  model.add(layers.Dense(units, activation='relu'))\n",
        "\n",
        "  model.add(layers.Dense(10, activation='softmax'))\n",
        "\n",
        "  model.compile(optimizer='adam', loss=loss, metrics=['accuracy'])\n",
        "\n",
        "  return model"
      ]
    },
    {
      "cell_type": "code",
      "execution_count": null,
      "metadata": {
        "colab": {
          "base_uri": "https://localhost:8080/"
        },
        "id": "WDh8obUAalrX",
        "outputId": "2929c933-e22e-4317-cd14-02537dc36260"
      },
      "outputs": [],
      "source": [
        "dir = 'Tuner'\n",
        "\n",
        "target = 'val_accuracy'\n",
        "\n",
        "project = 'Belajar Keras Tuner'\n",
        "\n",
        "tuner = kt.Hyperband(builder, objective=target, max_epochs=loop, directory=dir, project_name=project)"
      ]
    },
    {
      "cell_type": "code",
      "execution_count": 11,
      "metadata": {
        "id": "dys_UoJSbTow"
      },
      "outputs": [],
      "source": [
        "tuner.search(train_image, train_label, validation_data=(test_image, test_label), epochs=loop)"
      ]
    },
    {
      "cell_type": "code",
      "execution_count": 12,
      "metadata": {
        "colab": {
          "base_uri": "https://localhost:8080/"
        },
        "id": "9pE8jIoIcPwU",
        "outputId": "4eba30fa-856d-4f36-b0a2-50a4370ce9b1"
      },
      "outputs": [
        {
          "data": {
            "text/plain": [
              "64"
            ]
          },
          "execution_count": 12,
          "metadata": {},
          "output_type": "execute_result"
        }
      ],
      "source": [
        "optima = tuner.get_best_hyperparameters()[0]\n",
        "\n",
        "optima.get('units')"
      ]
    },
    {
      "cell_type": "code",
      "execution_count": 13,
      "metadata": {
        "id": "ZmjBp6__cVPm"
      },
      "outputs": [],
      "source": [
        "resulta = tuner.get_best_models()[0]\n",
        "\n",
        "hist = resulta.fit(train_image, train_label, validation_data=(test_image, test_label), epochs=loop)"
      ]
    },
    {
      "cell_type": "code",
      "execution_count": 14,
      "metadata": {
        "colab": {
          "base_uri": "https://localhost:8080/"
        },
        "id": "uttqtz-mdZ04",
        "outputId": "f2ffc9db-20ad-4e5b-eb32-d4b31633390f"
      },
      "outputs": [
        {
          "data": {
            "text/plain": [
              "[0.23577918112277985, 0.9132833480834961]"
            ]
          },
          "execution_count": 14,
          "metadata": {},
          "output_type": "execute_result"
        }
      ],
      "source": [
        "resulta.evaluate(train_image, train_label)"
      ]
    },
    {
      "cell_type": "code",
      "execution_count": 15,
      "metadata": {
        "colab": {
          "base_uri": "https://localhost:8080/"
        },
        "id": "oJ3sKgUpdfSK",
        "outputId": "ce7d1ebe-9967-4071-cfc5-6185305ce79c"
      },
      "outputs": [
        {
          "data": {
            "text/plain": [
              "[0.347107857465744, 0.8809999823570251]"
            ]
          },
          "execution_count": 15,
          "metadata": {},
          "output_type": "execute_result"
        }
      ],
      "source": [
        "resulta.evaluate(test_image, test_label)"
      ]
    }
  ],
  "metadata": {
    "colab": {
      "authorship_tag": "ABX9TyOqlQpQbQDhObCAuNv8llXP",
      "provenance": []
    },
    "kernelspec": {
      "display_name": "Python 3",
      "name": "python3"
    },
    "language_info": {
      "name": "python"
    }
  },
  "nbformat": 4,
  "nbformat_minor": 0
}
