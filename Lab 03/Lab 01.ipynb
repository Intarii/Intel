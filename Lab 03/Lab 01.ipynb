{
  "nbformat": 4,
  "nbformat_minor": 0,
  "metadata": {
    "colab": {
      "provenance": [],
      "authorship_tag": "ABX9TyMcHkIQDe81I66Zu6aw1xRZ"
    },
    "kernelspec": {
      "name": "python3",
      "display_name": "Python 3"
    },
    "language_info": {
      "name": "python"
    }
  },
  "cells": [
    {
      "cell_type": "code",
      "execution_count": 1,
      "metadata": {
        "id": "w6VtZNfmkNzf"
      },
      "outputs": [],
      "source": [
        "import tensorflow as tf\n",
        "\n",
        "from tensorflow.keras import models, layers, datasets"
      ]
    },
    {
      "cell_type": "code",
      "source": [
        "(train_image, train_label), (test_image, test_label) = datasets.fashion_mnist.load_data()"
      ],
      "metadata": {
        "id": "Rl9PhEHokcAM"
      },
      "execution_count": 2,
      "outputs": []
    },
    {
      "cell_type": "code",
      "source": [
        "def rescale(image):\n",
        "  \"\"\"\n",
        "  Helper Function\n",
        "  \"\"\"\n",
        "  image = tf.cast(image, tf.float32) / 255.0\n",
        "\n",
        "  return image\n",
        "\n",
        "train_image = rescale(train_image)\n",
        "\n",
        "test_image = rescale(test_image)"
      ],
      "metadata": {
        "id": "tCLN9K1ekvlg"
      },
      "execution_count": 3,
      "outputs": []
    },
    {
      "cell_type": "code",
      "source": [
        "import warnings; warnings.filterwarnings('ignore')\n",
        "\n",
        "input_shape = (28, 28)\n",
        "\n",
        "model = models.Sequential()\n",
        "\n",
        "model.add(layers.Flatten(input_shape=input_shape))\n",
        "\n",
        "model.add(layers.Dense(16, activation='relu'))\n",
        "\n",
        "model.add(layers.Dense(10, activation='softmax'))"
      ],
      "metadata": {
        "id": "GdBJbr4vloWv"
      },
      "execution_count": 4,
      "outputs": []
    },
    {
      "cell_type": "code",
      "source": [
        "loss = 'sparse_categorical_crossentropy'\n",
        "\n",
        "model.compile(optimizer='adam', loss=loss, metrics=['accuracy'])"
      ],
      "metadata": {
        "id": "Fl3F-b0KmLb7"
      },
      "execution_count": 5,
      "outputs": []
    },
    {
      "cell_type": "code",
      "source": [
        "loop = 10\n",
        "\n",
        "hist = model.fit(train_image, train_label, epochs=loop, validation_data=(test_image, test_label))"
      ],
      "metadata": {
        "id": "addc7IR0mTww"
      },
      "execution_count": 6,
      "outputs": []
    },
    {
      "cell_type": "code",
      "source": [
        "model.evaluate(train_image, train_label, verbose=False)"
      ],
      "metadata": {
        "colab": {
          "base_uri": "https://localhost:8080/"
        },
        "id": "RJNdJt0MngH3",
        "outputId": "42b90cc0-7b69-4c7a-a5ca-257cda193ecf"
      },
      "execution_count": 7,
      "outputs": [
        {
          "output_type": "execute_result",
          "data": {
            "text/plain": [
              "[0.32297393679618835, 0.8845499753952026]"
            ]
          },
          "metadata": {},
          "execution_count": 7
        }
      ]
    },
    {
      "cell_type": "code",
      "source": [
        "model.evaluate(test_image, test_label, verbose=False)"
      ],
      "metadata": {
        "colab": {
          "base_uri": "https://localhost:8080/"
        },
        "id": "0FlC08cZnkMd",
        "outputId": "5a9fe1b5-f284-4771-b359-c848c551ab76"
      },
      "execution_count": 8,
      "outputs": [
        {
          "output_type": "execute_result",
          "data": {
            "text/plain": [
              "[0.394864559173584, 0.8568999767303467]"
            ]
          },
          "metadata": {},
          "execution_count": 8
        }
      ]
    }
  ]
}